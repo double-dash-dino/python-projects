{
 "metadata": {
  "language_info": {
   "codemirror_mode": {
    "name": "ipython",
    "version": 3
   },
   "file_extension": ".py",
   "mimetype": "text/x-python",
   "name": "python",
   "nbconvert_exporter": "python",
   "pygments_lexer": "ipython3",
   "version": "3.9.1-final"
  },
  "orig_nbformat": 2,
  "kernelspec": {
   "name": "python39164bit6b8ad3e1ac9f46dda78bc86d52139053",
   "display_name": "Python 3.9.1 64-bit",
   "language": "python"
  }
 },
 "nbformat": 4,
 "nbformat_minor": 2,
 "cells": [
  {
   "cell_type": "code",
   "execution_count": 111,
   "metadata": {},
   "outputs": [],
   "source": [
    "import random\n",
    "\n",
    "class Player:\n",
    "\n",
    "    def __init__(self):\n",
    "        self.name= input('Hello there, what is your name?')\n",
    "        self.score= 0\n",
    "\n",
    "\n",
    "    def play(self):\n",
    "        values={'r':'Rock','p':'Paper','s':'Scissors'}\n",
    "        choice = 'x'\n",
    "        possible_choices=['r','p','s']\n",
    "        while choice.lower() not in values:\n",
    "\n",
    "            choice = input('Please select r for rock, p for paper or s for scissors')\n",
    "        print(f\"You picked {values[choice]}\")\n",
    "        return possible_choices.index(choice.lower())\n",
    "\n",
    "class Computer:\n",
    "\n",
    "    def __init__(self):\n",
    "        self.score = 0\n",
    "        \n",
    "\n",
    "    def choice(self):\n",
    "        values=['Rock','Paper','Scissors']\n",
    "        computer_choice=random.randint(0,2)\n",
    "        print(f\"Computer picked {values[computer_choice]}!\")\n",
    "        return computer_choice\n",
    "\n",
    "def winner(player_choice, computer_choice, player_score, computer_score):\n",
    "    match = (player_choice, computer_choice)\n",
    "    if player_choice == computer_choice:\n",
    "        print(\"It's a tie!\")\n",
    "    elif player_choice==0:\n",
    "        if match==(0,2):\n",
    "            player.score+=1\n",
    "            print( f\"{player.name} wins!\")\n",
    "        else:\n",
    "            computer.score+=1\n",
    "            print( \"Computer wins!\")\n",
    "    elif player_choice ==1:\n",
    "        if match==(1,0):\n",
    "            computer.score+=1\n",
    "            print( \"Computer wins!\")\n",
    "        else: \n",
    "            player.score+=1\n",
    "            print( f\"{player.name} wins!\" )\n",
    "    else:\n",
    "        if match==(2,0):\n",
    "            computer.score+=1\n",
    "            print( \"Computer wins!\")\n",
    "        else: \n",
    "            player.score+=1\n",
    "            print( f\"{player.name} wins!\" )\n",
    "    print(f\"{player.score}, {computer.score}\")\n",
    "\n"
   ]
  },
  {
   "cell_type": "code",
   "execution_count": 112,
   "metadata": {},
   "outputs": [
    {
     "output_type": "stream",
     "name": "stdout",
     "text": [
      "You picked Rock\n",
      "Computer picked Scissors!\n",
      "Lionel wins!\n",
      "1, 0\n",
      "**********\n",
      " Scores:\n",
      " Lionel: 1\n",
      " Computer: 0\n",
      "**********\n",
      "You picked Rock\n",
      "Computer picked Paper!\n",
      "Computer wins!\n",
      "1, 1\n",
      "**********\n",
      " Scores:\n",
      " Lionel: 1\n",
      " Computer: 1\n",
      "**********\n",
      "You picked Rock\n",
      "Computer picked Rock!\n",
      "It's a tie!\n",
      "1, 1\n",
      "**********\n",
      " Scores:\n",
      " Lionel: 1\n",
      " Computer: 1\n",
      "**********\n",
      "You picked Rock\n",
      "Computer picked Paper!\n",
      "Computer wins!\n",
      "1, 2\n",
      "**********\n",
      " Scores:\n",
      " Lionel: 1\n",
      " Computer: 2\n",
      "**********\n",
      "You picked Rock\n",
      "Computer picked Rock!\n",
      "It's a tie!\n",
      "1, 2\n",
      "**********\n",
      " Scores:\n",
      " Lionel: 1\n",
      " Computer: 2\n",
      "**********\n",
      "You picked Rock\n",
      "Computer picked Paper!\n",
      "Computer wins!\n",
      "1, 3\n",
      "**********\n",
      " Scores:\n",
      " Lionel: 1\n",
      " Computer: 3\n",
      "**********\n",
      "Computer has won the game!\n",
      "Ok bye!\n"
     ]
    }
   ],
   "source": [
    "player = Player()\n",
    "computer = Computer()\n",
    "game_on = True\n",
    "while game_on ==True:   \n",
    "    while computer.score < 3 and player.score < 3:\n",
    "        winner(player.play(),computer.choice(),player.score,computer.score)\n",
    "        print(f\"**********\\n Scores:\\n {player.name}: {player.score}\\n Computer: {computer.score}\\n**********\")\n",
    "    if computer.score<player.score:\n",
    "        print(f\"{player.name} has won the game!\")\n",
    "    else:\n",
    "        print(\"Computer has won the game!\")\n",
    "    if input(\"Play another round? y/n\").lower()=='y':\n",
    "        player.score = 0\n",
    "        computer.score = 0\n",
    "        game_on\n",
    "    else:\n",
    "        print(\"Ok bye!\")\n",
    "        game_on=False"
   ]
  },
  {
   "cell_type": "code",
   "execution_count": 101,
   "metadata": {},
   "outputs": [
    {
     "output_type": "execute_result",
     "data": {
      "text/plain": [
       "0"
      ]
     },
     "metadata": {},
     "execution_count": 101
    }
   ],
   "source": [
    "lionel.score"
   ]
  },
  {
   "cell_type": "code",
   "execution_count": 102,
   "metadata": {},
   "outputs": [
    {
     "output_type": "execute_result",
     "data": {
      "text/plain": [
       "0"
      ]
     },
     "metadata": {},
     "execution_count": 102
    }
   ],
   "source": [
    "computer_choice"
   ]
  }
 ]
}